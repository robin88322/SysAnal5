{
 "cells": [
  {
   "cell_type": "code",
   "execution_count": 335,
   "metadata": {},
   "outputs": [],
   "source": [
    "#lab6\n",
    "import numpy as np\n",
    "import random\n",
    "from copy import deepcopy\n",
    "E =[] #поддії(розвиток, залив бабосіків, початок реалізації якоїсь хуйні)\n",
    "Q = [] #множина експертів 7 штук\n",
    "W = [1, 1, 1, 1, 1, 1, 1] #коефіцієнт довіри до експертів\n",
    "n = 8\n",
    "k = 7"
   ]
  },
  {
   "cell_type": "code",
   "execution_count": 336,
   "metadata": {},
   "outputs": [],
   "source": [
    "#в результаті опитування експертів отримали ймовірності настання подій e\n",
    "#         e1   e2   e3    e4    e5   e6  e7   e8   події\n",
    "P_hat = [[0.5, 0.7, 0.05, 0.5, 0.4, 0.9, 0.7, 0.8], #q1  експерти\n",
    "         [0.5, 0.8, 0.2,  0.4, 0.5, 0.8, 0.8, 0.7], #q2\n",
    "         [0.6, 0.7, 0.3,  0.5, 0.4, 0.7, 0.5, 0.5], #q3\n",
    "         [0.4, 0.8, 0.3,  0.5, 0.2, 0.6, 0.5, 0.6], #q4\n",
    "         [0.5, 0.6, 0.2,  0.6, 0.4, 0.7, 0.6, 0.6],\n",
    "         [0.7, 0.6, 0.09, 0.7, 0.3, 0.8, 0.7, 0.7],\n",
    "         [0.6, 0.7, 0.2,  0.5, 0.3, 0.5, 0.5, 0.5]]"
   ]
  },
  {
   "cell_type": "code",
   "execution_count": 353,
   "metadata": {},
   "outputs": [],
   "source": [
    "#рахуємо P, середньозважена апріорна оцінка апріорної ймовірності e\n",
    "P = np.zeros(n)\n",
    "s1 = 0; s2 = 0\n",
    "for i in range(n):\n",
    "    s1 = 0; s2 = 0\n",
    "    for j in range(k):\n",
    "        s1 += P_hat[j][i]*W[j]\n",
    "        s2 += W[j]\n",
    "    P[i] = round(s1/s2, 2)"
   ]
  },
  {
   "cell_type": "code",
   "execution_count": 354,
   "metadata": {},
   "outputs": [
    {
     "data": {
      "text/plain": [
       "array([0.54, 0.7 , 0.19, 0.53, 0.36, 0.71, 0.61, 0.63])"
      ]
     },
     "execution_count": 354,
     "metadata": {},
     "output_type": "execute_result"
    }
   ],
   "source": [
    "P"
   ]
  },
  {
   "cell_type": "code",
   "execution_count": null,
   "metadata": {},
   "outputs": [],
   "source": []
  },
  {
   "cell_type": "code",
   "execution_count": 339,
   "metadata": {},
   "outputs": [],
   "source": [
    "P_divided = np.zeros((n,n)) #мариця умовних ймовірностей"
   ]
  },
  {
   "cell_type": "code",
   "execution_count": 340,
   "metadata": {},
   "outputs": [],
   "source": [
    "s1 = 0\n",
    "s2 = 0\n",
    "for i in range (n):\n",
    "    for j in range (n):\n",
    "        if (i == j): P_divided[i][j] = 0\n",
    "        else:\n",
    "            s1 = (P[i]-1 + P[j])/P[j]\n",
    "            s2 = P[i]/P[j]\n",
    "            if (s2>1): s2 = 1\n",
    "            if (s1<0): s1 =0\n",
    "            P_divided[i][j] = round(random.uniform(s1, s2), 2)"
   ]
  },
  {
   "cell_type": "code",
   "execution_count": null,
   "metadata": {},
   "outputs": [],
   "source": []
  },
  {
   "cell_type": "code",
   "execution_count": null,
   "metadata": {},
   "outputs": [],
   "source": []
  },
  {
   "cell_type": "code",
   "execution_count": 341,
   "metadata": {},
   "outputs": [
    {
     "data": {
      "text/plain": [
       "array([[0.  , 0.7 , 0.61, 0.35, 0.14, 0.49, 0.39, 0.78],\n",
       "       [0.58, 0.  , 0.93, 0.61, 0.51, 0.67, 0.84, 0.94],\n",
       "       [0.14, 0.25, 0.  , 0.01, 0.37, 0.11, 0.09, 0.29],\n",
       "       [0.46, 0.42, 0.45, 0.  , 0.88, 0.53, 0.77, 0.69],\n",
       "       [0.07, 0.33, 0.5 , 0.6 , 0.  , 0.4 , 0.23, 0.39],\n",
       "       [0.71, 0.99, 0.16, 0.99, 0.95, 0.  , 0.79, 0.86],\n",
       "       [0.67, 0.83, 0.76, 0.3 , 0.39, 0.75, 0.  , 0.47],\n",
       "       [0.57, 0.64, 0.03, 0.46, 0.23, 0.8 , 0.51, 0.  ]])"
      ]
     },
     "execution_count": 341,
     "metadata": {},
     "output_type": "execute_result"
    }
   ],
   "source": [
    "P_divided"
   ]
  },
  {
   "cell_type": "code",
   "execution_count": 342,
   "metadata": {},
   "outputs": [],
   "source": [
    "#матриці впливів отриманих ймовірностей\n",
    "Odd_P = np.zeros(n)  #для безумовної ймовірності\n",
    "Odd_P_d = np.zeros((n,n)) # для умовновуаї ймовірності"
   ]
  },
  {
   "cell_type": "code",
   "execution_count": 343,
   "metadata": {},
   "outputs": [],
   "source": [
    "for i in range(n):\n",
    "    Odd_P[i] = P[i]/(1-P[i])\n",
    "   # if(Odd_P[i]>1): Odd_P[i] = 1 #пробне гавно, мб вканає"
   ]
  },
  {
   "cell_type": "code",
   "execution_count": 344,
   "metadata": {},
   "outputs": [
    {
     "data": {
      "text/plain": [
       "array([1.1875    , 2.33333333, 0.23674912, 1.12121212, 0.55555556,\n",
       "       2.5       , 1.59259259, 1.69230769])"
      ]
     },
     "execution_count": 344,
     "metadata": {},
     "output_type": "execute_result"
    }
   ],
   "source": [
    "Odd_P"
   ]
  },
  {
   "cell_type": "code",
   "execution_count": 345,
   "metadata": {},
   "outputs": [],
   "source": [
    "for i in range(n):\n",
    "    for j in range(n):\n",
    "        if i != j:\n",
    "            Odd_P_d[i][j] = P_divided[i][j]/(1 - P_divided[i][j])\n",
    "        else: Odd_P_d[i][j] = 0"
   ]
  },
  {
   "cell_type": "code",
   "execution_count": 346,
   "metadata": {},
   "outputs": [
    {
     "data": {
      "text/plain": [
       "array([[0.00000000e+00, 2.33333333e+00, 1.56410256e+00, 5.38461538e-01,\n",
       "        1.62790698e-01, 9.60784314e-01, 6.39344262e-01, 3.54545455e+00],\n",
       "       [1.38095238e+00, 0.00000000e+00, 1.32857143e+01, 1.56410256e+00,\n",
       "        1.04081633e+00, 2.03030303e+00, 5.25000000e+00, 1.56666667e+01],\n",
       "       [1.62790698e-01, 3.33333333e-01, 0.00000000e+00, 1.01010101e-02,\n",
       "        5.87301587e-01, 1.23595506e-01, 9.89010989e-02, 4.08450704e-01],\n",
       "       [8.51851852e-01, 7.24137931e-01, 8.18181818e-01, 0.00000000e+00,\n",
       "        7.33333333e+00, 1.12765957e+00, 3.34782609e+00, 2.22580645e+00],\n",
       "       [7.52688172e-02, 4.92537313e-01, 1.00000000e+00, 1.50000000e+00,\n",
       "        0.00000000e+00, 6.66666667e-01, 2.98701299e-01, 6.39344262e-01],\n",
       "       [2.44827586e+00, 9.90000000e+01, 1.90476190e-01, 9.90000000e+01,\n",
       "        1.90000000e+01, 0.00000000e+00, 3.76190476e+00, 6.14285714e+00],\n",
       "       [2.03030303e+00, 4.88235294e+00, 3.16666667e+00, 4.28571429e-01,\n",
       "        6.39344262e-01, 3.00000000e+00, 0.00000000e+00, 8.86792453e-01],\n",
       "       [1.32558140e+00, 1.77777778e+00, 3.09278351e-02, 8.51851852e-01,\n",
       "        2.98701299e-01, 4.00000000e+00, 1.04081633e+00, 0.00000000e+00]])"
      ]
     },
     "execution_count": 346,
     "metadata": {},
     "output_type": "execute_result"
    }
   ],
   "source": [
    "Odd_P_d"
   ]
  },
  {
   "cell_type": "code",
   "execution_count": 347,
   "metadata": {},
   "outputs": [],
   "source": [
    "D = np.zeros((n, n)) # матриця відношення шансів"
   ]
  },
  {
   "cell_type": "code",
   "execution_count": 348,
   "metadata": {},
   "outputs": [
    {
     "data": {
      "text/plain": [
       "array([[0.        , 1.        , 3.18656716, 0.66216216, 0.392     ,\n",
       "        0.686     , 0.63488372, 1.24090909],\n",
       "       [1.06842105, 0.        , 4.85820896, 1.15405405, 1.428     ,\n",
       "        0.938     , 1.36744186, 1.49545455],\n",
       "       [0.25789474, 0.35714286, 0.        , 0.01891892, 1.036     ,\n",
       "        0.154     , 0.14651163, 0.46136364],\n",
       "       [0.84736842, 0.6       , 2.35074627, 0.        , 2.464     ,\n",
       "        0.742     , 1.25348837, 1.09772727],\n",
       "       [0.12894737, 0.47142857, 2.6119403 , 1.13513514, 0.        ,\n",
       "        0.56      , 0.3744186 , 0.62045455],\n",
       "       [1.30789474, 1.41428571, 0.8358209 , 1.87297297, 2.66      ,\n",
       "        0.        , 1.28604651, 1.36818182],\n",
       "       [1.23421053, 1.18571429, 3.97014925, 0.56756757, 1.092     ,\n",
       "        1.05      , 0.        , 0.74772727],\n",
       "       [1.05      , 0.91428571, 0.15671642, 0.87027027, 0.644     ,\n",
       "        1.12      , 0.83023256, 0.        ]])"
      ]
     },
     "execution_count": 348,
     "metadata": {},
     "output_type": "execute_result"
    }
   ],
   "source": [
    "for i in range(n):\n",
    "    for j in range(n):\n",
    "        if (i == j): D[i][j] = 0\n",
    "        else:\n",
    "            D[i][j] = P_divided[i][j]/P[j]\n",
    "D"
   ]
  },
  {
   "cell_type": "code",
   "execution_count": 349,
   "metadata": {},
   "outputs": [
    {
     "data": {
      "text/plain": [
       "'Вибирається випадкове число від 0 до 1. Якщо випадкове число\\nменше за імовірність настання вибраної події, вважається, що подія\\nвідбудеться. Якщо більше – не відбудеться.'"
      ]
     },
     "execution_count": 349,
     "metadata": {},
     "output_type": "execute_result"
    }
   ],
   "source": [
    "#Далі починаються головні приколяси, не впевнений що правильно, но\n",
    "#методом монте карло проганяються по 10000 ітерацій і параша\n",
    "\n",
    "\"\"\"Вибирається випадкове число від 0 до 1. Якщо випадкове число\n",
    "менше за імовірність настання вибраної події, вважається, що подія\n",
    "відбудеться. Якщо більше – не відбудеться.\"\"\""
   ]
  },
  {
   "cell_type": "code",
   "execution_count": 350,
   "metadata": {},
   "outputs": [],
   "source": [
    "# прогонка сценаріїв\n"
   ]
  },
  {
   "cell_type": "code",
   "execution_count": 351,
   "metadata": {},
   "outputs": [
    {
     "name": "stdout",
     "output_type": "stream",
     "text": [
      "[0.53 0.86 0.88 0.08 0.6  0.77 0.83 0.96]\n"
     ]
    }
   ],
   "source": [
    "res = np.zeros(n)\n",
    "I = 10000\n",
    "for m in range(I):\n",
    "    Fuck = deepcopy(P)\n",
    "    for i in range(n):\n",
    "        randos = random.uniform(0,1)\n",
    "        if (Fuck[i]>randos):\n",
    "            res[i] += 1\n",
    "    #хз якою парашою но тут треба якусь таку хуйню дописати щоб дані коваріювали між собою, бо поки зміна однієї\n",
    "    #ймовірності ніяким хуєм не повпливає на зміну іншої\n",
    "            for j in range(n):\n",
    "                Fuck[j] = Odd_P[j]*D[i][j]\n",
    "        \n",
    "for i in range(n):\n",
    "    res[i] = round(res[i]/I, 2)\n",
    "print(res)  \n"
   ]
  },
  {
   "cell_type": "code",
   "execution_count": 352,
   "metadata": {},
   "outputs": [
    {
     "name": "stdout",
     "output_type": "stream",
     "text": [
      "[0.54 0.7  0.19 0.53 0.36 0.71 0.61 0.63]\n"
     ]
    }
   ],
   "source": [
    "for i in range(n):\n",
    "    P[i] = round(P[i], 2)\n",
    "print(P)\n"
   ]
  },
  {
   "cell_type": "code",
   "execution_count": null,
   "metadata": {},
   "outputs": [],
   "source": []
  },
  {
   "cell_type": "code",
   "execution_count": null,
   "metadata": {},
   "outputs": [],
   "source": []
  }
 ],
 "metadata": {
  "kernelspec": {
   "display_name": "Python 3",
   "language": "python",
   "name": "python3"
  },
  "language_info": {
   "codemirror_mode": {
    "name": "ipython",
    "version": 3
   },
   "file_extension": ".py",
   "mimetype": "text/x-python",
   "name": "python",
   "nbconvert_exporter": "python",
   "pygments_lexer": "ipython3",
   "version": "3.6.8"
  }
 },
 "nbformat": 4,
 "nbformat_minor": 2
}
