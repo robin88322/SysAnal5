{
 "cells": [
  {
   "cell_type": "code",
   "execution_count": 70,
   "metadata": {},
   "outputs": [],
   "source": [
    "#lab6\n",
    "import numpy as np\n",
    "import random\n",
    "from copy import deepcopy\n",
    "E =[] #поддії(розвиток, залив бабосіків, початок реалізації якоїсь хуйні)\n",
    "Q = [] #множина експертів 7 штук\n",
    "W = [1, 1, 1, 1, 1, 1, 1] #коефіцієнт довіри до експертів\n",
    "n = 8\n",
    "k = 7"
   ]
  },
  {
   "cell_type": "code",
   "execution_count": 71,
   "metadata": {},
   "outputs": [],
   "source": [
    "#в результаті опитування експертів отримали ймовірності настання подій e\n",
    "#         e1   e2   e3    e4    e5   e6  e7   e8   події\n",
    "P_hat = [[0.5, 0.7, 0.05, 0.5, 0.4, 0.9, 0.7, 0.8], #q1  експерти\n",
    "         [0.5, 0.8, 0.2,  0.4, 0.5, 0.8, 0.8, 0.7], #q2\n",
    "         [0.6, 0.7, 0.3,  0.5, 0.4, 0.7, 0.5, 0.5], #q3\n",
    "         [0.4, 0.8, 0.3,  0.5, 0.2, 0.6, 0.5, 0.6], #q4\n",
    "         [0.5, 0.6, 0.2,  0.6, 0.4, 0.7, 0.6, 0.6],\n",
    "         [0.7, 0.6, 0.09, 0.7, 0.3, 0.8, 0.7, 0.7],\n",
    "         [0.6, 0.7, 0.2,  0.5, 0.3, 0.5, 0.5, 0.5]]"
   ]
  },
  {
   "cell_type": "code",
   "execution_count": 72,
   "metadata": {},
   "outputs": [],
   "source": [
    "#рахуємо P, середньозважена апріорна оцінка апріорної ймовірності e\n",
    "P = np.zeros(n)\n",
    "s1 = 0; s2 = 0\n",
    "for i in range(n):\n",
    "    s1 = 0; s2 = 0\n",
    "    for j in range(k):\n",
    "        s1 += P_hat[j][i]*W[j]\n",
    "        s2 += W[j]\n",
    "    P[i] = round(s1/s2, 2)"
   ]
  },
  {
   "cell_type": "code",
   "execution_count": 73,
   "metadata": {},
   "outputs": [
    {
     "data": {
      "text/plain": [
       "array([0.54, 0.7 , 0.19, 0.53, 0.36, 0.71, 0.61, 0.63])"
      ]
     },
     "execution_count": 73,
     "metadata": {},
     "output_type": "execute_result"
    }
   ],
   "source": [
    "P"
   ]
  },
  {
   "cell_type": "code",
   "execution_count": 286,
   "metadata": {},
   "outputs": [],
   "source": [
    "P = [0.99, 0.7 , 0.19, 0.53, 0.36, 0.71, 0.61, 0.63]"
   ]
  },
  {
   "cell_type": "code",
   "execution_count": 287,
   "metadata": {},
   "outputs": [],
   "source": [
    "P_divided = np.zeros((n,n)) #мариця умовних ймовірностей"
   ]
  },
  {
   "cell_type": "code",
   "execution_count": 288,
   "metadata": {},
   "outputs": [],
   "source": [
    "s1 = 0\n",
    "s2 = 0\n",
    "for i in range (n):\n",
    "    for j in range (n):\n",
    "        if (i == j): P_divided[i][j] = 0\n",
    "        else:\n",
    "            s1 = (P[i]-1 + P[j])/P[j]\n",
    "            s2 = P[i]/P[j]\n",
    "            if (s2>1): s2 = 1\n",
    "            if (s1<0): s1 =0\n",
    "            P_divided[i][j] = round(random.uniform(s1, s2), 2)"
   ]
  },
  {
   "cell_type": "code",
   "execution_count": null,
   "metadata": {},
   "outputs": [],
   "source": []
  },
  {
   "cell_type": "code",
   "execution_count": null,
   "metadata": {},
   "outputs": [],
   "source": []
  },
  {
   "cell_type": "code",
   "execution_count": 289,
   "metadata": {},
   "outputs": [
    {
     "data": {
      "text/plain": [
       "array([[0.  , 1.  , 0.97, 1.  , 0.98, 1.  , 0.99, 0.99],\n",
       "       [0.7 , 0.  , 0.46, 0.64, 0.64, 0.89, 0.93, 0.81],\n",
       "       [0.18, 0.17, 0.  , 0.02, 0.26, 0.27, 0.3 , 0.2 ],\n",
       "       [0.53, 0.48, 0.42, 0.  , 0.12, 0.46, 0.3 , 0.33],\n",
       "       [0.36, 0.47, 0.03, 0.57, 0.  , 0.5 , 0.37, 0.09],\n",
       "       [0.72, 0.61, 0.56, 0.58, 0.22, 0.  , 0.94, 0.95],\n",
       "       [0.61, 0.83, 0.05, 0.34, 0.81, 0.46, 0.  , 0.57],\n",
       "       [0.63, 0.79, 0.91, 0.93, 0.3 , 0.56, 0.96, 0.  ]])"
      ]
     },
     "execution_count": 289,
     "metadata": {},
     "output_type": "execute_result"
    }
   ],
   "source": [
    "P_divided"
   ]
  },
  {
   "cell_type": "code",
   "execution_count": 290,
   "metadata": {},
   "outputs": [],
   "source": [
    "#матриці впливів отриманих ймовірностей\n",
    "Odd_P = np.zeros(n)  #для безумовної ймовірності\n",
    "Odd_P_d = np.zeros((n,n)) # для умовновуаї ймовірності"
   ]
  },
  {
   "cell_type": "code",
   "execution_count": 291,
   "metadata": {},
   "outputs": [],
   "source": [
    "for i in range(n):\n",
    "    Odd_P[i] = P[i]/(1-P[i])\n",
    "   # if(Odd_P[i]>1): Odd_P[i] = 1 #пробне гавно, мб вканає"
   ]
  },
  {
   "cell_type": "code",
   "execution_count": 292,
   "metadata": {},
   "outputs": [
    {
     "data": {
      "text/plain": [
       "array([99.        ,  2.33333333,  0.2345679 ,  1.12765957,  0.5625    ,\n",
       "        2.44827586,  1.56410256,  1.7027027 ])"
      ]
     },
     "execution_count": 292,
     "metadata": {},
     "output_type": "execute_result"
    }
   ],
   "source": [
    "Odd_P"
   ]
  },
  {
   "cell_type": "code",
   "execution_count": 293,
   "metadata": {},
   "outputs": [
    {
     "name": "stderr",
     "output_type": "stream",
     "text": [
      "/home/robin/.local/lib/python3.6/site-packages/ipykernel_launcher.py:4: RuntimeWarning: divide by zero encountered in double_scalars\n",
      "  after removing the cwd from sys.path.\n"
     ]
    }
   ],
   "source": [
    "for i in range(n):\n",
    "    for j in range(n):\n",
    "        if i != j:\n",
    "            Odd_P_d[i][j] = P_divided[i][j]/(1 - P_divided[i][j])\n",
    "        else: Odd_P_d[i][j] = 0"
   ]
  },
  {
   "cell_type": "code",
   "execution_count": 294,
   "metadata": {},
   "outputs": [
    {
     "data": {
      "text/plain": [
       "array([[0.00000000e+00,            inf, 3.23333333e+01,            inf,\n",
       "        4.90000000e+01,            inf, 9.90000000e+01, 9.90000000e+01],\n",
       "       [2.33333333e+00, 0.00000000e+00, 8.51851852e-01, 1.77777778e+00,\n",
       "        1.77777778e+00, 8.09090909e+00, 1.32857143e+01, 4.26315789e+00],\n",
       "       [2.19512195e-01, 2.04819277e-01, 0.00000000e+00, 2.04081633e-02,\n",
       "        3.51351351e-01, 3.69863014e-01, 4.28571429e-01, 2.50000000e-01],\n",
       "       [1.12765957e+00, 9.23076923e-01, 7.24137931e-01, 0.00000000e+00,\n",
       "        1.36363636e-01, 8.51851852e-01, 4.28571429e-01, 4.92537313e-01],\n",
       "       [5.62500000e-01, 8.86792453e-01, 3.09278351e-02, 1.32558140e+00,\n",
       "        0.00000000e+00, 1.00000000e+00, 5.87301587e-01, 9.89010989e-02],\n",
       "       [2.57142857e+00, 1.56410256e+00, 1.27272727e+00, 1.38095238e+00,\n",
       "        2.82051282e-01, 0.00000000e+00, 1.56666667e+01, 1.90000000e+01],\n",
       "       [1.56410256e+00, 4.88235294e+00, 5.26315789e-02, 5.15151515e-01,\n",
       "        4.26315789e+00, 8.51851852e-01, 0.00000000e+00, 1.32558140e+00],\n",
       "       [1.70270270e+00, 3.76190476e+00, 1.01111111e+01, 1.32857143e+01,\n",
       "        4.28571429e-01, 1.27272727e+00, 2.40000000e+01, 0.00000000e+00]])"
      ]
     },
     "execution_count": 294,
     "metadata": {},
     "output_type": "execute_result"
    }
   ],
   "source": [
    "Odd_P_d"
   ]
  },
  {
   "cell_type": "code",
   "execution_count": 295,
   "metadata": {},
   "outputs": [],
   "source": [
    "D = np.zeros((n, n)) # матриця відношення шансів"
   ]
  },
  {
   "cell_type": "code",
   "execution_count": 296,
   "metadata": {},
   "outputs": [
    {
     "data": {
      "text/plain": [
       "array([[0.        , 1.42857143, 5.10526316, 1.88679245, 2.72222222,\n",
       "        1.4084507 , 1.62295082, 1.57142857],\n",
       "       [0.70707071, 0.        , 2.42105263, 1.20754717, 1.77777778,\n",
       "        1.25352113, 1.52459016, 1.28571429],\n",
       "       [0.18181818, 0.24285714, 0.        , 0.03773585, 0.72222222,\n",
       "        0.38028169, 0.49180328, 0.31746032],\n",
       "       [0.53535354, 0.68571429, 2.21052632, 0.        , 0.33333333,\n",
       "        0.64788732, 0.49180328, 0.52380952],\n",
       "       [0.36363636, 0.67142857, 0.15789474, 1.0754717 , 0.        ,\n",
       "        0.70422535, 0.60655738, 0.14285714],\n",
       "       [0.72727273, 0.87142857, 2.94736842, 1.09433962, 0.61111111,\n",
       "        0.        , 1.54098361, 1.50793651],\n",
       "       [0.61616162, 1.18571429, 0.26315789, 0.64150943, 2.25      ,\n",
       "        0.64788732, 0.        , 0.9047619 ],\n",
       "       [0.63636364, 1.12857143, 4.78947368, 1.75471698, 0.83333333,\n",
       "        0.78873239, 1.57377049, 0.        ]])"
      ]
     },
     "execution_count": 296,
     "metadata": {},
     "output_type": "execute_result"
    }
   ],
   "source": [
    "for i in range(n):\n",
    "    for j in range(n):\n",
    "        if (i == j): D[i][j] = 0\n",
    "        else:\n",
    "            D[i][j] = P_divided[i][j]/P[j]\n",
    "D"
   ]
  },
  {
   "cell_type": "code",
   "execution_count": 297,
   "metadata": {},
   "outputs": [
    {
     "data": {
      "text/plain": [
       "'Вибирається випадкове число від 0 до 1. Якщо випадкове число\\nменше за імовірність настання вибраної події, вважається, що подія\\nвідбудеться. Якщо більше – не відбудеться.'"
      ]
     },
     "execution_count": 297,
     "metadata": {},
     "output_type": "execute_result"
    }
   ],
   "source": [
    "#Далі починаються головні приколяси, не впевнений що правильно, но\n",
    "#методом монте карло проганяються по 10000 ітерацій і параша\n",
    "\n",
    "\"\"\"Вибирається випадкове число від 0 до 1. Якщо випадкове число\n",
    "менше за імовірність настання вибраної події, вважається, що подія\n",
    "відбудеться. Якщо більше – не відбудеться.\"\"\""
   ]
  },
  {
   "cell_type": "code",
   "execution_count": 298,
   "metadata": {},
   "outputs": [],
   "source": [
    "# прогонка сценаріїв\n"
   ]
  },
  {
   "cell_type": "code",
   "execution_count": 299,
   "metadata": {
    "scrolled": true
   },
   "outputs": [
    {
     "name": "stdout",
     "output_type": "stream",
     "text": [
      "[0.99 1.   0.56 0.47 0.31 0.98 0.99 1.  ]\n"
     ]
    }
   ],
   "source": [
    "res = np.zeros(n)\n",
    "I = 10000\n",
    "for m in range(I):\n",
    "    Fuck = deepcopy(P)\n",
    "    for i in range(n):\n",
    "        randos = random.uniform(0,1)\n",
    "        if (Fuck[i]>randos):\n",
    "            res[i] += 1\n",
    "    #хз якою парашою но тут треба якусь таку хуйню дописати щоб дані коваріювали між собою, бо поки зміна однієї\n",
    "    #ймовірності ніяким хуєм не повпливає на зміну іншої\n",
    "    #йобаний гегель, хз, в методі куча гівна і ніхуя не розписано, хіба їй в лс писати\n",
    "            for j in range(n):\n",
    "                Fuck[j] = Odd_P[j]*D[i][j]\n",
    "        if (Fuck[i]>randos):\n",
    "             for j in range(n):\n",
    "                Fuck[j] = (1-Odd_P[j])*(1-D[i][j])\n",
    "        \n",
    "for i in range(n):\n",
    "    res[i] = round(res[i]/I, 2)\n",
    "print(res)  \n"
   ]
  },
  {
   "cell_type": "code",
   "execution_count": 300,
   "metadata": {},
   "outputs": [
    {
     "name": "stdout",
     "output_type": "stream",
     "text": [
      "[0.99, 0.7, 0.19, 0.53, 0.36, 0.71, 0.61, 0.63]\n"
     ]
    }
   ],
   "source": [
    "for i in range(n):\n",
    "    P[i] = round(P[i], 2)\n",
    "print(P)\n"
   ]
  },
  {
   "cell_type": "code",
   "execution_count": 301,
   "metadata": {},
   "outputs": [],
   "source": [
    "#обчислення інтегрального коефіцієнта достовірності результатів\n",
    "#[0.54 0.86 0.89 0.42 0.6  0.43 0.84 0.89]"
   ]
  },
  {
   "cell_type": "code",
   "execution_count": 302,
   "metadata": {},
   "outputs": [],
   "source": [
    "sum1 = 0\n",
    "sum2 = 0\n",
    "Sigma = np.zeros(n)\n",
    "for j in range(n):\n",
    "    sum1 = 0\n",
    "    sum2 = 0\n",
    "    for i in range(k):\n",
    "        sum1 += (P_hat[i][j])**2\n",
    "        sum2 += P_hat[i][j]\n",
    "    Sigma[j] = (k*sum1 - sum2**2)/k*(k-1)\n",
    "    "
   ]
  },
  {
   "cell_type": "code",
   "execution_count": 303,
   "metadata": {},
   "outputs": [
    {
     "data": {
      "text/plain": [
       "array([0.34285714, 0.24      , 0.32451429, 0.32571429, 0.34285714,\n",
       "       0.65142857, 0.53142857, 0.44571429])"
      ]
     },
     "execution_count": 303,
     "metadata": {},
     "output_type": "execute_result"
    }
   ],
   "source": [
    "Sigma"
   ]
  },
  {
   "cell_type": "code",
   "execution_count": null,
   "metadata": {},
   "outputs": [],
   "source": []
  },
  {
   "cell_type": "code",
   "execution_count": null,
   "metadata": {},
   "outputs": [],
   "source": []
  }
 ],
 "metadata": {
  "kernelspec": {
   "display_name": "Python 3",
   "language": "python",
   "name": "python3"
  },
  "language_info": {
   "codemirror_mode": {
    "name": "ipython",
    "version": 3
   },
   "file_extension": ".py",
   "mimetype": "text/x-python",
   "name": "python",
   "nbconvert_exporter": "python",
   "pygments_lexer": "ipython3",
   "version": "3.6.8"
  }
 },
 "nbformat": 4,
 "nbformat_minor": 2
}
